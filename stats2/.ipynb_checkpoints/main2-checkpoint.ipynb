{
 "cells": [
  {
   "cell_type": "code",
   "execution_count": 1,
   "id": "1623aca4",
   "metadata": {},
   "outputs": [],
   "source": [
    "import matplotlib.pyplot as plt\n",
    "import scipy.stats as sps\n",
    "import pandas as pd\n",
    "import numpy as np\n",
    "import math\n",
    "import os"
   ]
  },
  {
   "cell_type": "code",
   "execution_count": 2,
   "id": "5bf99bd2",
   "metadata": {},
   "outputs": [
    {
     "data": {
      "text/plain": [
       "200"
      ]
     },
     "execution_count": 2,
     "metadata": {},
     "output_type": "execute_result"
    }
   ],
   "source": [
    "norm_copy = pd.read_excel(\"norm_data.xlsx\").to_numpy()\n",
    "unif_copy = pd.read_excel(\"unif_data.xlsx\").to_numpy()\n",
    "norm = []\n",
    "unif = []\n",
    "\n",
    "for i in norm_copy:\n",
    "    for j in i:\n",
    "        norm.append(j)\n",
    "\n",
    "for i in unif_copy:\n",
    "    for j in i:\n",
    "        unif.append(j)\n",
    "\n",
    "len(unif)\n",
    "len(norm)"
   ]
  },
  {
   "cell_type": "code",
   "execution_count": 3,
   "id": "2ddd91b4",
   "metadata": {},
   "outputs": [],
   "source": [
    "norm_sort = np.sort(norm)\n",
    "unif_sort = np.sort(unif)"
   ]
  },
  {
   "cell_type": "markdown",
   "id": "24b81437",
   "metadata": {},
   "source": [
    "## Задание 1"
   ]
  },
  {
   "cell_type": "markdown",
   "id": "6ad3d7f6",
   "metadata": {},
   "source": [
    "### Интервальный ряд для нормального распределения"
   ]
  },
  {
   "cell_type": "code",
   "execution_count": 4,
   "id": "8357aaf0",
   "metadata": {},
   "outputs": [
    {
     "data": {
      "text/html": [
       "<div>\n",
       "<style scoped>\n",
       "    .dataframe tbody tr th:only-of-type {\n",
       "        vertical-align: middle;\n",
       "    }\n",
       "\n",
       "    .dataframe tbody tr th {\n",
       "        vertical-align: top;\n",
       "    }\n",
       "\n",
       "    .dataframe thead th {\n",
       "        text-align: right;\n",
       "    }\n",
       "</style>\n",
       "<table border=\"1\" class=\"dataframe\">\n",
       "  <thead>\n",
       "    <tr style=\"text-align: right;\">\n",
       "      <th></th>\n",
       "      <th>n</th>\n",
       "      <th>w</th>\n",
       "    </tr>\n",
       "  </thead>\n",
       "  <tbody>\n",
       "    <tr>\n",
       "      <th>[0.16619, 1.04830]</th>\n",
       "      <td>14.0</td>\n",
       "      <td>0.070</td>\n",
       "    </tr>\n",
       "    <tr>\n",
       "      <th>(1.04830, 1.93040]</th>\n",
       "      <td>15.0</td>\n",
       "      <td>0.075</td>\n",
       "    </tr>\n",
       "    <tr>\n",
       "      <th>(1.93040, 2.81251]</th>\n",
       "      <td>44.0</td>\n",
       "      <td>0.220</td>\n",
       "    </tr>\n",
       "    <tr>\n",
       "      <th>(2.81251, 3.69462]</th>\n",
       "      <td>49.0</td>\n",
       "      <td>0.245</td>\n",
       "    </tr>\n",
       "    <tr>\n",
       "      <th>(3.69462, 4.57673]</th>\n",
       "      <td>50.0</td>\n",
       "      <td>0.250</td>\n",
       "    </tr>\n",
       "    <tr>\n",
       "      <th>(4.57673, 5.45883]</th>\n",
       "      <td>20.0</td>\n",
       "      <td>0.100</td>\n",
       "    </tr>\n",
       "    <tr>\n",
       "      <th>(5.45883, 6.34094]</th>\n",
       "      <td>5.0</td>\n",
       "      <td>0.025</td>\n",
       "    </tr>\n",
       "    <tr>\n",
       "      <th>(6.34094, 7.22305]</th>\n",
       "      <td>3.0</td>\n",
       "      <td>0.015</td>\n",
       "    </tr>\n",
       "    <tr>\n",
       "      <th></th>\n",
       "      <td>200.0</td>\n",
       "      <td>1.000</td>\n",
       "    </tr>\n",
       "  </tbody>\n",
       "</table>\n",
       "</div>"
      ],
      "text/plain": [
       "                        n      w\n",
       "[0.16619, 1.04830]   14.0  0.070\n",
       "(1.04830, 1.93040]   15.0  0.075\n",
       "(1.93040, 2.81251]   44.0  0.220\n",
       "(2.81251, 3.69462]   49.0  0.245\n",
       "(3.69462, 4.57673]   50.0  0.250\n",
       "(4.57673, 5.45883]   20.0  0.100\n",
       "(5.45883, 6.34094]    5.0  0.025\n",
       "(6.34094, 7.22305]    3.0  0.015\n",
       "                    200.0  1.000"
      ]
     },
     "execution_count": 4,
     "metadata": {},
     "output_type": "execute_result"
    }
   ],
   "source": [
    "m = 1 + int(math.log(len(norm), 2))\n",
    "norm_h = abs(norm_sort[-1] - norm_sort[0])/m\n",
    "\n",
    "N = pd.DataFrame(columns=['n', 'w'])\n",
    "i = 0\n",
    "\n",
    "for k in range(1, m+1):\n",
    "    \n",
    "    if k == 1:\n",
    "        interval = f'[{(norm_sort[0]+(k-1)*norm_h):.5f}, {(norm_sort[0]+k*norm_h):.5f}]'\n",
    "    else:\n",
    "        interval = f'({(norm_sort[0]+(k-1)*norm_h):.5f}, {(norm_sort[0]+k*norm_h):.5f}]'\n",
    "    \n",
    "    count = 0\n",
    "    while i < len(norm_sort):\n",
    "        if norm_sort[i] <= norm_sort[0]+k*norm_h:\n",
    "            i, count = i+1, count+1\n",
    "        else:\n",
    "            N.loc[interval] = [count, count/len(norm_sort)]\n",
    "            break\n",
    "\n",
    "N.loc[interval] = [count, count/len(norm_sort)]\n",
    "# N.loc[interval] = [count+1, (count+1)/len(norm_sort)] for Max Vong Dolbil\n",
    "N.loc[' '] = [N['n'].sum(), N['w'].sum()]\n",
    "    \n",
    "N"
   ]
  },
  {
   "cell_type": "code",
   "execution_count": 5,
   "id": "7d2e9949",
   "metadata": {},
   "outputs": [],
   "source": [
    "if os.path.isdir('tables') == False:\n",
    "    os.mkdir('tables')\n",
    "\n",
    "N.to_excel('tables/table1_1.xlsx')"
   ]
  },
  {
   "cell_type": "markdown",
   "id": "1ff518e1",
   "metadata": {},
   "source": [
    "### Расчет оценок некоторых характеристик нормального распределния"
   ]
  },
  {
   "cell_type": "code",
   "execution_count": 6,
   "id": "3352e12d",
   "metadata": {},
   "outputs": [
    {
     "name": "stdout",
     "output_type": "stream",
     "text": [
      "Оценка математического ожидания: 3.25048\n",
      "Оценка дисперсии:  1.64096\n",
      "Оценка среднего квадратического отклонения: 1.28100\n"
     ]
    }
   ],
   "source": [
    "norm_mean = 0 # математическое ожидание\n",
    "\n",
    "for i in norm_sort:\n",
    "    norm_mean += i/len(norm_sort)\n",
    "\n",
    "norm_var = 0 # дисперсия\n",
    "\n",
    "for i in norm_sort:\n",
    "    norm_var += i*i/len(norm_sort)\n",
    "    \n",
    "norm_var -= norm_mean*norm_mean\n",
    "\n",
    "norm_std = norm_var**0.5 # среднее квадратическое отклонение\n",
    "\n",
    "print(f'Оценка математического ожидания: {norm_mean:.5f}')\n",
    "print(f'Оценка дисперсии:  {norm_var:.5f}')\n",
    "print(f'Оценка среднего квадратического отклонения: {norm_std:.5f}')"
   ]
  },
  {
   "cell_type": "markdown",
   "id": "6432ffc1",
   "metadata": {},
   "source": [
    "### Таблица 1.2"
   ]
  },
  {
   "cell_type": "code",
   "execution_count": 7,
   "id": "a9c0a44f",
   "metadata": {},
   "outputs": [
    {
     "data": {
      "text/html": [
       "<div>\n",
       "<style scoped>\n",
       "    .dataframe tbody tr th:only-of-type {\n",
       "        vertical-align: middle;\n",
       "    }\n",
       "\n",
       "    .dataframe tbody tr th {\n",
       "        vertical-align: top;\n",
       "    }\n",
       "\n",
       "    .dataframe thead th {\n",
       "        text-align: right;\n",
       "    }\n",
       "</style>\n",
       "<table border=\"1\" class=\"dataframe\">\n",
       "  <thead>\n",
       "    <tr style=\"text-align: right;\">\n",
       "      <th></th>\n",
       "      <th>a_k</th>\n",
       "      <th>(a_k-mean)/std</th>\n",
       "      <th>f/std</th>\n",
       "      <th>F</th>\n",
       "      <th>p_k</th>\n",
       "    </tr>\n",
       "  </thead>\n",
       "  <tbody>\n",
       "    <tr>\n",
       "      <th>0</th>\n",
       "      <td>0.16619</td>\n",
       "      <td>-2.407725</td>\n",
       "      <td>0.01716</td>\n",
       "      <td>0.008026</td>\n",
       "      <td>0.000000</td>\n",
       "    </tr>\n",
       "    <tr>\n",
       "      <th>1</th>\n",
       "      <td>1.048297</td>\n",
       "      <td>-1.719115</td>\n",
       "      <td>0.071058</td>\n",
       "      <td>0.042797</td>\n",
       "      <td>0.042797</td>\n",
       "    </tr>\n",
       "    <tr>\n",
       "      <th>2</th>\n",
       "      <td>1.930405</td>\n",
       "      <td>-1.030506</td>\n",
       "      <td>0.183132</td>\n",
       "      <td>0.151386</td>\n",
       "      <td>0.108590</td>\n",
       "    </tr>\n",
       "    <tr>\n",
       "      <th>3</th>\n",
       "      <td>2.812512</td>\n",
       "      <td>-0.341896</td>\n",
       "      <td>0.293751</td>\n",
       "      <td>0.366215</td>\n",
       "      <td>0.214828</td>\n",
       "    </tr>\n",
       "    <tr>\n",
       "      <th>4</th>\n",
       "      <td>3.69462</td>\n",
       "      <td>0.346714</td>\n",
       "      <td>0.293264</td>\n",
       "      <td>0.635597</td>\n",
       "      <td>0.269382</td>\n",
       "    </tr>\n",
       "    <tr>\n",
       "      <th>5</th>\n",
       "      <td>4.576727</td>\n",
       "      <td>1.035323</td>\n",
       "      <td>0.182223</td>\n",
       "      <td>0.849741</td>\n",
       "      <td>0.214144</td>\n",
       "    </tr>\n",
       "    <tr>\n",
       "      <th>6</th>\n",
       "      <td>5.458835</td>\n",
       "      <td>1.723933</td>\n",
       "      <td>0.070471</td>\n",
       "      <td>0.95764</td>\n",
       "      <td>0.107899</td>\n",
       "    </tr>\n",
       "    <tr>\n",
       "      <th>7</th>\n",
       "      <td>6.340942</td>\n",
       "      <td>2.412543</td>\n",
       "      <td>0.016962</td>\n",
       "      <td>0.992079</td>\n",
       "      <td>0.034439</td>\n",
       "    </tr>\n",
       "    <tr>\n",
       "      <th>8</th>\n",
       "      <td>7.22305</td>\n",
       "      <td>3.101152</td>\n",
       "      <td>0.002541</td>\n",
       "      <td>0.999036</td>\n",
       "      <td>0.006957</td>\n",
       "    </tr>\n",
       "    <tr>\n",
       "      <th></th>\n",
       "      <td></td>\n",
       "      <td></td>\n",
       "      <td></td>\n",
       "      <td></td>\n",
       "      <td>0.999036</td>\n",
       "    </tr>\n",
       "  </tbody>\n",
       "</table>\n",
       "</div>"
      ],
      "text/plain": [
       "        a_k (a_k-mean)/std     f/std         F       p_k\n",
       "0   0.16619      -2.407725   0.01716  0.008026  0.000000\n",
       "1  1.048297      -1.719115  0.071058  0.042797  0.042797\n",
       "2  1.930405      -1.030506  0.183132  0.151386  0.108590\n",
       "3  2.812512      -0.341896  0.293751  0.366215  0.214828\n",
       "4   3.69462       0.346714  0.293264  0.635597  0.269382\n",
       "5  4.576727       1.035323  0.182223  0.849741  0.214144\n",
       "6  5.458835       1.723933  0.070471   0.95764  0.107899\n",
       "7  6.340942       2.412543  0.016962  0.992079  0.034439\n",
       "8   7.22305       3.101152  0.002541  0.999036  0.006957\n",
       "                                                0.999036"
      ]
     },
     "execution_count": 7,
     "metadata": {},
     "output_type": "execute_result"
    }
   ],
   "source": [
    "table1_2 = pd.DataFrame(columns=['a_k', '(a_k-mean)/std', 'f/std', 'F', 'p_k'])\n",
    "\n",
    "for k in range(m+1):\n",
    "    \n",
    "    z = norm_sort[0]+k*norm_h\n",
    "    y = (z-norm_mean)/norm_std\n",
    "    f = sps.norm.pdf(y)/norm_std\n",
    "    F = sps.norm.cdf(y)\n",
    "    \n",
    "    if k > 1:\n",
    "        table1_2.loc[k] = [z, y, f, F, F - sps.norm.cdf((norm_sort[0]+(k-1)*norm_h-norm_mean)/norm_std)]\n",
    "    elif k == 1:\n",
    "        table1_2.loc[k] = [z, y, f, F, F]\n",
    "    elif k == m:\n",
    "        table1_2.loc[k] = [z, y, f, F, 1 - sps.norm.cdf((norm_sort[0]+(m-1)*norm_h-norm_mean)/norm_std)]\n",
    "    else:\n",
    "        table1_2.loc[k] = [z, y, f, F, 0]\n",
    "    \n",
    "table1_2.loc[' '] = [' ', ' ', ' ', ' ', table1_2['p_k'].sum()]\n",
    "table1_2"
   ]
  },
  {
   "cell_type": "code",
   "execution_count": 8,
   "id": "d18f90d6",
   "metadata": {},
   "outputs": [],
   "source": [
    "table1_2.to_excel('tables/table1_2.xlsx')"
   ]
  },
  {
   "cell_type": "markdown",
   "id": "3521d55d",
   "metadata": {},
   "source": [
    "### Гистограмма относительных частот и график плотности нормального распределения"
   ]
  },
  {
   "cell_type": "code",
   "execution_count": 9,
   "id": "6536d17c",
   "metadata": {},
   "outputs": [
    {
     "data": {
      "image/png": "[encoded data removed]",
      "text/plain": [
       "<Figure size 640x480 with 1 Axes>"
      ]
     },
     "metadata": {},
     "output_type": "display_data"
    }
   ],
   "source": [
    "height_N = []\n",
    "\n",
    "plt.grid(True)\n",
    "plt.title('Гистограмма относительных частот')\n",
    "n, bins, rects = plt.hist(norm_sort.tolist(), bins=8, ec='k')\n",
    "\n",
    "i = 0\n",
    "for r in rects:\n",
    "    r.set_height(N['w'].iloc[i]/norm_h)\n",
    "    height_N.append(N['w'].iloc[i]/norm_h)\n",
    "    i+=1\n",
    "\n",
    "x = np.arange(norm_sort[0]-norm_h, norm_sort[-1]+norm_h, 0.001)\n",
    "plt.plot(x, sps.norm(norm_mean, norm_std).pdf(x), color='red')     \n",
    "\n",
    "plt.ylim(0, max(height_N)+0.1)\n",
    "plt.savefig('tables/plot1.jpg')\n",
    "\n",
    "plt.show()"
   ]
  },
  {
   "cell_type": "markdown",
   "id": "34a2bed1",
   "metadata": {},
   "source": [
    "### Таблица 1.3"
   ]
  },
  {
   "cell_type": "code",
   "execution_count": 10,
   "id": "74c5a2de",
   "metadata": {},
   "outputs": [
    {
     "data": {
      "text/html": [
       "<div>\n",
       "<style scoped>\n",
       "    .dataframe tbody tr th:only-of-type {\n",
       "        vertical-align: middle;\n",
       "    }\n",
       "\n",
       "    .dataframe tbody tr th {\n",
       "        vertical-align: top;\n",
       "    }\n",
       "\n",
       "    .dataframe thead th {\n",
       "        text-align: right;\n",
       "    }\n",
       "</style>\n",
       "<table border=\"1\" class=\"dataframe\">\n",
       "  <thead>\n",
       "    <tr style=\"text-align: right;\">\n",
       "      <th></th>\n",
       "      <th>Интервал</th>\n",
       "      <th>w_k</th>\n",
       "      <th>p_k</th>\n",
       "      <th>|w_k - p_k|</th>\n",
       "      <th>something</th>\n",
       "    </tr>\n",
       "  </thead>\n",
       "  <tbody>\n",
       "    <tr>\n",
       "      <th>1</th>\n",
       "      <td>[0.16619, 1.04830]</td>\n",
       "      <td>0.070</td>\n",
       "      <td>0.042797</td>\n",
       "      <td>0.027203</td>\n",
       "      <td>3.458302</td>\n",
       "    </tr>\n",
       "    <tr>\n",
       "      <th>2</th>\n",
       "      <td>(1.04830, 1.93040]</td>\n",
       "      <td>0.075</td>\n",
       "      <td>0.108590</td>\n",
       "      <td>0.033590</td>\n",
       "      <td>2.078035</td>\n",
       "    </tr>\n",
       "    <tr>\n",
       "      <th>3</th>\n",
       "      <td>(1.93040, 2.81251]</td>\n",
       "      <td>0.220</td>\n",
       "      <td>0.214828</td>\n",
       "      <td>0.005172</td>\n",
       "      <td>0.024901</td>\n",
       "    </tr>\n",
       "    <tr>\n",
       "      <th>4</th>\n",
       "      <td>(2.81251, 3.69462]</td>\n",
       "      <td>0.245</td>\n",
       "      <td>0.269382</td>\n",
       "      <td>0.024382</td>\n",
       "      <td>0.441374</td>\n",
       "    </tr>\n",
       "    <tr>\n",
       "      <th>5</th>\n",
       "      <td>(3.69462, 4.57673]</td>\n",
       "      <td>0.250</td>\n",
       "      <td>0.214144</td>\n",
       "      <td>0.035856</td>\n",
       "      <td>1.200719</td>\n",
       "    </tr>\n",
       "    <tr>\n",
       "      <th>6</th>\n",
       "      <td>(4.57673, 5.45883]</td>\n",
       "      <td>0.100</td>\n",
       "      <td>0.107899</td>\n",
       "      <td>0.007899</td>\n",
       "      <td>0.115653</td>\n",
       "    </tr>\n",
       "    <tr>\n",
       "      <th>7</th>\n",
       "      <td>(5.45883, 6.34094]</td>\n",
       "      <td>0.025</td>\n",
       "      <td>0.034439</td>\n",
       "      <td>0.009439</td>\n",
       "      <td>0.517418</td>\n",
       "    </tr>\n",
       "    <tr>\n",
       "      <th>8</th>\n",
       "      <td>(6.34094, 7.22305]</td>\n",
       "      <td>0.015</td>\n",
       "      <td>0.006957</td>\n",
       "      <td>0.008043</td>\n",
       "      <td>1.859707</td>\n",
       "    </tr>\n",
       "    <tr>\n",
       "      <th></th>\n",
       "      <td></td>\n",
       "      <td>1.000</td>\n",
       "      <td>0.999036</td>\n",
       "      <td>0.035856</td>\n",
       "      <td>9.696109</td>\n",
       "    </tr>\n",
       "  </tbody>\n",
       "</table>\n",
       "</div>"
      ],
      "text/plain": [
       "             Интервал    w_k       p_k  |w_k - p_k|  something\n",
       "1  [0.16619, 1.04830]  0.070  0.042797     0.027203   3.458302\n",
       "2  (1.04830, 1.93040]  0.075  0.108590     0.033590   2.078035\n",
       "3  (1.93040, 2.81251]  0.220  0.214828     0.005172   0.024901\n",
       "4  (2.81251, 3.69462]  0.245  0.269382     0.024382   0.441374\n",
       "5  (3.69462, 4.57673]  0.250  0.214144     0.035856   1.200719\n",
       "6  (4.57673, 5.45883]  0.100  0.107899     0.007899   0.115653\n",
       "7  (5.45883, 6.34094]  0.025  0.034439     0.009439   0.517418\n",
       "8  (6.34094, 7.22305]  0.015  0.006957     0.008043   1.859707\n",
       "                       1.000  0.999036     0.035856   9.696109"
      ]
     },
     "execution_count": 10,
     "metadata": {},
     "output_type": "execute_result"
    }
   ],
   "source": [
    "table1_3 = pd.DataFrame(columns=['Интервал', 'w_k', 'p_k', '|w_k - p_k|', 'something'])\n",
    "\n",
    "for k in range(1, m+1):\n",
    "    \n",
    "    a = N.iloc[k-1]['w']\n",
    "    b = table1_2.iloc[k]['p_k']\n",
    "    \n",
    "    if k == 1:\n",
    "        interval = f'[{(norm_sort[0]+(k-1)*norm_h):.5f}, {(norm_sort[0]+k*norm_h):.5f}]'\n",
    "    else:\n",
    "        interval = f'({(norm_sort[0]+(k-1)*norm_h):.5f}, {(norm_sort[0]+k*norm_h):.5f}]'\n",
    "    \n",
    "    table1_3.loc[k] = [interval, a, b, abs(a-b), len(norm_sort)*(a-b)*(a-b)/b]\n",
    "    \n",
    "\n",
    "table1_3.loc[' '] = [' ', table1_3['w_k'].sum(), table1_3['p_k'].sum(), table1_3['|w_k - p_k|'].max(), table1_3['something'].sum()]\n",
    "table1_3"
   ]
  },
  {
   "cell_type": "code",
   "execution_count": 11,
   "id": "f10fe482",
   "metadata": {},
   "outputs": [],
   "source": [
    "table1_3.to_excel('tables/table1_3.xlsx')"
   ]
  },
  {
   "cell_type": "code",
   "execution_count": 12,
   "id": "a8a41619",
   "metadata": {},
   "outputs": [
    {
     "name": "stdout",
     "output_type": "stream",
     "text": [
      "Число степеней свободы: 5\n"
     ]
    }
   ],
   "source": [
    "print(f'Число степеней свободы: {m-3}')"
   ]
  },
  {
   "cell_type": "markdown",
   "id": "9f5c7735",
   "metadata": {},
   "source": [
    "## Задание 2"
   ]
  },
  {
   "cell_type": "markdown",
   "id": "3b117e0d",
   "metadata": {},
   "source": [
    "### Интервальный ряд для равномерного распределения"
   ]
  },
  {
   "cell_type": "code",
   "execution_count": 13,
   "id": "cc8f1bc9",
   "metadata": {},
   "outputs": [
    {
     "data": {
      "text/html": [
       "<div>\n",
       "<style scoped>\n",
       "    .dataframe tbody tr th:only-of-type {\n",
       "        vertical-align: middle;\n",
       "    }\n",
       "\n",
       "    .dataframe tbody tr th {\n",
       "        vertical-align: top;\n",
       "    }\n",
       "\n",
       "    .dataframe thead th {\n",
       "        text-align: right;\n",
       "    }\n",
       "</style>\n",
       "<table border=\"1\" class=\"dataframe\">\n",
       "  <thead>\n",
       "    <tr style=\"text-align: right;\">\n",
       "      <th></th>\n",
       "      <th>n</th>\n",
       "      <th>w</th>\n",
       "    </tr>\n",
       "  </thead>\n",
       "  <tbody>\n",
       "    <tr>\n",
       "      <th>[2.6, 2.84000]</th>\n",
       "      <td>25.0</td>\n",
       "      <td>0.125</td>\n",
       "    </tr>\n",
       "    <tr>\n",
       "      <th>(2.84000, 3.08000]</th>\n",
       "      <td>26.0</td>\n",
       "      <td>0.130</td>\n",
       "    </tr>\n",
       "    <tr>\n",
       "      <th>(3.08000, 3.32000]</th>\n",
       "      <td>37.0</td>\n",
       "      <td>0.185</td>\n",
       "    </tr>\n",
       "    <tr>\n",
       "      <th>(3.32000, 3.56000]</th>\n",
       "      <td>22.0</td>\n",
       "      <td>0.110</td>\n",
       "    </tr>\n",
       "    <tr>\n",
       "      <th>(3.56000, 3.80000]</th>\n",
       "      <td>28.0</td>\n",
       "      <td>0.140</td>\n",
       "    </tr>\n",
       "    <tr>\n",
       "      <th>(3.80000, 4.04000]</th>\n",
       "      <td>19.0</td>\n",
       "      <td>0.095</td>\n",
       "    </tr>\n",
       "    <tr>\n",
       "      <th>(4.04000, 4.28000]</th>\n",
       "      <td>21.0</td>\n",
       "      <td>0.105</td>\n",
       "    </tr>\n",
       "    <tr>\n",
       "      <th>(4.28000, 4.52000]</th>\n",
       "      <td>22.0</td>\n",
       "      <td>0.110</td>\n",
       "    </tr>\n",
       "    <tr>\n",
       "      <th></th>\n",
       "      <td>200.0</td>\n",
       "      <td>1.000</td>\n",
       "    </tr>\n",
       "  </tbody>\n",
       "</table>\n",
       "</div>"
      ],
      "text/plain": [
       "                        n      w\n",
       "[2.6, 2.84000]       25.0  0.125\n",
       "(2.84000, 3.08000]   26.0  0.130\n",
       "(3.08000, 3.32000]   37.0  0.185\n",
       "(3.32000, 3.56000]   22.0  0.110\n",
       "(3.56000, 3.80000]   28.0  0.140\n",
       "(3.80000, 4.04000]   19.0  0.095\n",
       "(4.04000, 4.28000]   21.0  0.105\n",
       "(4.28000, 4.52000]   22.0  0.110\n",
       "                    200.0  1.000"
      ]
     },
     "execution_count": 13,
     "metadata": {},
     "output_type": "execute_result"
    }
   ],
   "source": [
    "# TODO magic numbers\n",
    "a = -1.25; b = 3.07\n",
    "\n",
    "unif_h = abs(b - a)/m\n",
    "\n",
    "U = pd.DataFrame(columns=['n', 'w'])\n",
    "i = 0\n",
    "\n",
    "for k in range(1, m+1):\n",
    "    \n",
    "    if k == 1:\n",
    "        interval = f'[{(a+(k-1)*unif_h)}, {(a+k*unif_h):.5f}]'\n",
    "    else:\n",
    "        interval = f'({(a+(k-1)*unif_h):.5f}, {(a+k*unif_h):.5f}]'\n",
    "    \n",
    "    count = 0\n",
    "    while i < len(unif_sort):\n",
    "        if unif_sort[i] <= a+k*unif_h:\n",
    "            i, count = i+1, count+1\n",
    "        else:\n",
    "            U.loc[interval] = [count, count/len(unif_sort)]\n",
    "            break\n",
    "\n",
    "U.loc[interval] = [count, count/len(unif_sort)]\n",
    "U.loc[' '] = [U['n'].sum(), U['w'].sum()]\n",
    "    \n",
    "U"
   ]
  },
  {
   "cell_type": "code",
   "execution_count": 14,
   "id": "3a92c2ce",
   "metadata": {},
   "outputs": [],
   "source": [
    "U.to_excel('tables/table2_1.xlsx')"
   ]
  },
  {
   "cell_type": "markdown",
   "id": "08ec41f2",
   "metadata": {},
   "source": [
    "### Таблица 2.2"
   ]
  },
  {
   "cell_type": "code",
   "execution_count": 15,
   "id": "a06cf57e",
   "metadata": {},
   "outputs": [
    {
     "data": {
      "text/html": [
       "<div>\n",
       "<style scoped>\n",
       "    .dataframe tbody tr th:only-of-type {\n",
       "        vertical-align: middle;\n",
       "    }\n",
       "\n",
       "    .dataframe tbody tr th {\n",
       "        vertical-align: top;\n",
       "    }\n",
       "\n",
       "    .dataframe thead th {\n",
       "        text-align: right;\n",
       "    }\n",
       "</style>\n",
       "<table border=\"1\" class=\"dataframe\">\n",
       "  <thead>\n",
       "    <tr style=\"text-align: right;\">\n",
       "      <th></th>\n",
       "      <th>a_k</th>\n",
       "      <th>f(a_k)</th>\n",
       "      <th>F(a_k)</th>\n",
       "      <th>p_k</th>\n",
       "    </tr>\n",
       "  </thead>\n",
       "  <tbody>\n",
       "    <tr>\n",
       "      <th>0</th>\n",
       "      <td>2.6</td>\n",
       "      <td>0.520833</td>\n",
       "      <td>0.0</td>\n",
       "      <td>0.000</td>\n",
       "    </tr>\n",
       "    <tr>\n",
       "      <th>1</th>\n",
       "      <td>2.84</td>\n",
       "      <td>0.520833</td>\n",
       "      <td>0.125</td>\n",
       "      <td>0.125</td>\n",
       "    </tr>\n",
       "    <tr>\n",
       "      <th>2</th>\n",
       "      <td>3.08</td>\n",
       "      <td>0.520833</td>\n",
       "      <td>0.25</td>\n",
       "      <td>0.125</td>\n",
       "    </tr>\n",
       "    <tr>\n",
       "      <th>3</th>\n",
       "      <td>3.32</td>\n",
       "      <td>0.520833</td>\n",
       "      <td>0.375</td>\n",
       "      <td>0.125</td>\n",
       "    </tr>\n",
       "    <tr>\n",
       "      <th>4</th>\n",
       "      <td>3.56</td>\n",
       "      <td>0.520833</td>\n",
       "      <td>0.5</td>\n",
       "      <td>0.125</td>\n",
       "    </tr>\n",
       "    <tr>\n",
       "      <th>5</th>\n",
       "      <td>3.8</td>\n",
       "      <td>0.520833</td>\n",
       "      <td>0.625</td>\n",
       "      <td>0.125</td>\n",
       "    </tr>\n",
       "    <tr>\n",
       "      <th>6</th>\n",
       "      <td>4.04</td>\n",
       "      <td>0.520833</td>\n",
       "      <td>0.75</td>\n",
       "      <td>0.125</td>\n",
       "    </tr>\n",
       "    <tr>\n",
       "      <th>7</th>\n",
       "      <td>4.28</td>\n",
       "      <td>0.520833</td>\n",
       "      <td>0.875</td>\n",
       "      <td>0.125</td>\n",
       "    </tr>\n",
       "    <tr>\n",
       "      <th>8</th>\n",
       "      <td>4.52</td>\n",
       "      <td>0.520833</td>\n",
       "      <td>1.0</td>\n",
       "      <td>0.125</td>\n",
       "    </tr>\n",
       "    <tr>\n",
       "      <th></th>\n",
       "      <td></td>\n",
       "      <td></td>\n",
       "      <td></td>\n",
       "      <td>1.000</td>\n",
       "    </tr>\n",
       "  </tbody>\n",
       "</table>\n",
       "</div>"
      ],
      "text/plain": [
       "    a_k    f(a_k) F(a_k)    p_k\n",
       "0   2.6  0.520833    0.0  0.000\n",
       "1  2.84  0.520833  0.125  0.125\n",
       "2  3.08  0.520833   0.25  0.125\n",
       "3  3.32  0.520833  0.375  0.125\n",
       "4  3.56  0.520833    0.5  0.125\n",
       "5   3.8  0.520833  0.625  0.125\n",
       "6  4.04  0.520833   0.75  0.125\n",
       "7  4.28  0.520833  0.875  0.125\n",
       "8  4.52  0.520833    1.0  0.125\n",
       "                          1.000"
      ]
     },
     "execution_count": 15,
     "metadata": {},
     "output_type": "execute_result"
    }
   ],
   "source": [
    "table2_2 = pd.DataFrame(columns=['a_k', 'f(a_k)', 'F(a_k)', 'p_k'])\n",
    "\n",
    "for k in range(m+1):\n",
    "    \n",
    "    a_k = a+k*unif_h\n",
    "    f = sps.uniform(a, b-a).pdf(a_k)\n",
    "    F = sps.uniform(a, b-a).cdf(a_k)\n",
    "    \n",
    "    table2_2.loc[k] = [a_k, f, F, F - sps.uniform(a, b-a).cdf(a+(k-1)*unif_h)]\n",
    "    \n",
    "table2_2.loc[' '] = [' ', ' ', ' ', table2_2['p_k'].sum()]\n",
    "table2_2"
   ]
  },
  {
   "cell_type": "code",
   "execution_count": 16,
   "id": "db2b91ff",
   "metadata": {},
   "outputs": [],
   "source": [
    "table2_2.to_excel('tables/table2_2.xlsx')"
   ]
  },
  {
   "cell_type": "markdown",
   "id": "c9d82bde",
   "metadata": {},
   "source": [
    "### Гистограмма относительных частот и график плотности равномерного распределения"
   ]
  },
  {
   "cell_type": "code",
   "execution_count": 17,
   "id": "f35509ea",
   "metadata": {},
   "outputs": [
    {
     "data": {
      "image/png": "[encoded data removed]",
      "text/plain": [
       "<Figure size 640x480 with 1 Axes>"
      ]
     },
     "metadata": {},
     "output_type": "display_data"
    }
   ],
   "source": [
    "height_U = []\n",
    "\n",
    "plt.grid(True)\n",
    "plt.title('Гистограмма относительных частот')\n",
    "n, bins, rects = plt.hist(unif_sort.tolist(), bins=8, ec='k')\n",
    "\n",
    "i = 0\n",
    "for r in rects:\n",
    "    r.set_height(U['w'].iloc[i]/unif_h)\n",
    "    height_U.append(U['w'].iloc[i]/unif_h)\n",
    "    i+=1\n",
    "\n",
    "x = np.arange(a-unif_h, b+unif_h, 0.001)\n",
    "plt.plot(x, sps.uniform(a, b-a).pdf(x), color='red')     \n",
    "\n",
    "plt.ylim(0, max(height_U)+0.1)\n",
    "plt.savefig('tables/plot2.jpg')\n",
    "\n",
    "plt.show()"
   ]
  },
  {
   "cell_type": "markdown",
   "id": "51c4d203",
   "metadata": {},
   "source": [
    "### Таблица 2.3"
   ]
  },
  {
   "cell_type": "code",
   "execution_count": 18,
   "id": "fffdb9b1",
   "metadata": {},
   "outputs": [
    {
     "data": {
      "text/html": [
       "<div>\n",
       "<style scoped>\n",
       "    .dataframe tbody tr th:only-of-type {\n",
       "        vertical-align: middle;\n",
       "    }\n",
       "\n",
       "    .dataframe tbody tr th {\n",
       "        vertical-align: top;\n",
       "    }\n",
       "\n",
       "    .dataframe thead th {\n",
       "        text-align: right;\n",
       "    }\n",
       "</style>\n",
       "<table border=\"1\" class=\"dataframe\">\n",
       "  <thead>\n",
       "    <tr style=\"text-align: right;\">\n",
       "      <th></th>\n",
       "      <th>Интервал</th>\n",
       "      <th>w_k</th>\n",
       "      <th>p_k</th>\n",
       "      <th>|w_k - p_k|</th>\n",
       "      <th>something</th>\n",
       "    </tr>\n",
       "  </thead>\n",
       "  <tbody>\n",
       "    <tr>\n",
       "      <th>1</th>\n",
       "      <td>[2.6, 2.84]</td>\n",
       "      <td>0.125</td>\n",
       "      <td>0.125</td>\n",
       "      <td>0.000</td>\n",
       "      <td>0.00</td>\n",
       "    </tr>\n",
       "    <tr>\n",
       "      <th>2</th>\n",
       "      <td>(2.84, 3.08]</td>\n",
       "      <td>0.130</td>\n",
       "      <td>0.125</td>\n",
       "      <td>0.005</td>\n",
       "      <td>0.04</td>\n",
       "    </tr>\n",
       "    <tr>\n",
       "      <th>3</th>\n",
       "      <td>(3.08, 3.32]</td>\n",
       "      <td>0.185</td>\n",
       "      <td>0.125</td>\n",
       "      <td>0.060</td>\n",
       "      <td>5.76</td>\n",
       "    </tr>\n",
       "    <tr>\n",
       "      <th>4</th>\n",
       "      <td>(3.32, 3.56]</td>\n",
       "      <td>0.110</td>\n",
       "      <td>0.125</td>\n",
       "      <td>0.015</td>\n",
       "      <td>0.36</td>\n",
       "    </tr>\n",
       "    <tr>\n",
       "      <th>5</th>\n",
       "      <td>(3.56, 3.80]</td>\n",
       "      <td>0.140</td>\n",
       "      <td>0.125</td>\n",
       "      <td>0.015</td>\n",
       "      <td>0.36</td>\n",
       "    </tr>\n",
       "    <tr>\n",
       "      <th>6</th>\n",
       "      <td>(3.80, 4.04]</td>\n",
       "      <td>0.095</td>\n",
       "      <td>0.125</td>\n",
       "      <td>0.030</td>\n",
       "      <td>1.44</td>\n",
       "    </tr>\n",
       "    <tr>\n",
       "      <th>7</th>\n",
       "      <td>(4.04, 4.28]</td>\n",
       "      <td>0.105</td>\n",
       "      <td>0.125</td>\n",
       "      <td>0.020</td>\n",
       "      <td>0.64</td>\n",
       "    </tr>\n",
       "    <tr>\n",
       "      <th>8</th>\n",
       "      <td>(4.28, 4.52]</td>\n",
       "      <td>0.110</td>\n",
       "      <td>0.125</td>\n",
       "      <td>0.015</td>\n",
       "      <td>0.36</td>\n",
       "    </tr>\n",
       "    <tr>\n",
       "      <th></th>\n",
       "      <td></td>\n",
       "      <td>1.000</td>\n",
       "      <td>1.000</td>\n",
       "      <td>0.060</td>\n",
       "      <td>8.96</td>\n",
       "    </tr>\n",
       "  </tbody>\n",
       "</table>\n",
       "</div>"
      ],
      "text/plain": [
       "       Интервал    w_k    p_k  |w_k - p_k|  something\n",
       "1   [2.6, 2.84]  0.125  0.125        0.000       0.00\n",
       "2  (2.84, 3.08]  0.130  0.125        0.005       0.04\n",
       "3  (3.08, 3.32]  0.185  0.125        0.060       5.76\n",
       "4  (3.32, 3.56]  0.110  0.125        0.015       0.36\n",
       "5  (3.56, 3.80]  0.140  0.125        0.015       0.36\n",
       "6  (3.80, 4.04]  0.095  0.125        0.030       1.44\n",
       "7  (4.04, 4.28]  0.105  0.125        0.020       0.64\n",
       "8  (4.28, 4.52]  0.110  0.125        0.015       0.36\n",
       "                 1.000  1.000        0.060       8.96"
      ]
     },
     "execution_count": 18,
     "metadata": {},
     "output_type": "execute_result"
    }
   ],
   "source": [
    "table2_3 = pd.DataFrame(columns=['Интервал', 'w_k', 'p_k', '|w_k - p_k|', 'something'])\n",
    "\n",
    "for k in range(1, m+1):\n",
    "    \n",
    "    x = U.iloc[k-1]['w']\n",
    "    y = table2_2.iloc[k]['p_k']\n",
    "    \n",
    "    if k == 1:\n",
    "        interval = f'[{(a+(k-1)*unif_h)}, {(a+k*unif_h):.2f}]'\n",
    "    else:\n",
    "        interval = f'({(a+(k-1)*unif_h):.2f}, {(a+k*unif_h):.2f}]'\n",
    "        \n",
    "    table2_3.loc[k] = [interval, x, y, round(abs(x-y),5), round(len(unif_sort)*(x-y)*(x-y)/y, 5)]\n",
    "    \n",
    "\n",
    "table2_3.loc[' '] = [' ', table2_3['w_k'].sum(), table2_3['p_k'].sum(), table2_3['|w_k - p_k|'].max(), table2_3['something'].sum()]\n",
    "table2_3"
   ]
  },
  {
   "cell_type": "code",
   "execution_count": 19,
   "id": "cd258bfa",
   "metadata": {},
   "outputs": [],
   "source": [
    "table2_3.to_excel('tables/table2_3.xlsx')"
   ]
  },
  {
   "cell_type": "code",
   "execution_count": 20,
   "id": "8d1c69be",
   "metadata": {},
   "outputs": [
    {
     "name": "stdout",
     "output_type": "stream",
     "text": [
      "Число степеней свободы: 7\n"
     ]
    }
   ],
   "source": [
    "print(f'Число степеней свободы: {m-1}')"
   ]
  },
  {
   "cell_type": "markdown",
   "id": "2265cf44",
   "metadata": {},
   "source": [
    "## Задание 3"
   ]
  },
  {
   "cell_type": "markdown",
   "id": "c2f1f90c",
   "metadata": {},
   "source": [
    "### Графики функций распределения"
   ]
  },
  {
   "cell_type": "code",
   "execution_count": 21,
   "id": "57b2cec2",
   "metadata": {},
   "outputs": [
    {
     "data": {
      "image/png": "[encoded data removed]",
      "text/plain": [
       "<Figure size 640x480 with 1 Axes>"
      ]
     },
     "metadata": {},
     "output_type": "display_data"
    }
   ],
   "source": [
    "plt.grid(True)\n",
    "plt.title('Функции распределения')\n",
    "\n",
    "for i in range(len(unif_sort)-1):\n",
    "    plt.plot([unif_sort[i], unif_sort[i+1]], [(i+1)/len(unif_sort), (i+1)/len(unif_sort)], color='blue')\n",
    "    \n",
    "plt.plot([unif_sort[0]-0.05, unif_sort[0]], [0, 0], color='blue')\n",
    "plt.plot([unif_sort[-1], unif_sort[-1]+0.05], [1, 1], color='blue')\n",
    "\n",
    "x = np.arange(a, b, 0.001)\n",
    "plt.plot(x, (x-a)/(b-a), color='red')\n",
    "\n",
    "plt.plot([a-0.05, a], [0, 0], color='red')\n",
    "plt.plot([b, b+0.05], [1, 1], color='red')\n",
    "\n",
    "plt.savefig('tables/plot3.jpg')\n",
    "plt.show()"
   ]
  },
  {
   "cell_type": "markdown",
   "id": "eb4b6d32",
   "metadata": {},
   "source": [
    "### Таблица 3.1"
   ]
  },
  {
   "cell_type": "code",
   "execution_count": 22,
   "id": "0c39355e",
   "metadata": {},
   "outputs": [
    {
     "data": {
      "text/html": [
       "<div>\n",
       "<style scoped>\n",
       "    .dataframe tbody tr th:only-of-type {\n",
       "        vertical-align: middle;\n",
       "    }\n",
       "\n",
       "    .dataframe tbody tr th {\n",
       "        vertical-align: top;\n",
       "    }\n",
       "\n",
       "    .dataframe thead th {\n",
       "        text-align: right;\n",
       "    }\n",
       "</style>\n",
       "<table border=\"1\" class=\"dataframe\">\n",
       "  <thead>\n",
       "    <tr style=\"text-align: right;\">\n",
       "      <th></th>\n",
       "      <th>a</th>\n",
       "      <th>b</th>\n",
       "      <th>N</th>\n",
       "      <th>D_N</th>\n",
       "      <th>D_N_N</th>\n",
       "      <th>y*</th>\n",
       "      <th>F(y*)</th>\n",
       "      <th>F_N(y*)</th>\n",
       "      <th>F_N(y*-0)</th>\n",
       "    </tr>\n",
       "  </thead>\n",
       "  <tbody>\n",
       "    <tr>\n",
       "      <th></th>\n",
       "      <td>2.6</td>\n",
       "      <td>4.52</td>\n",
       "      <td>200.0</td>\n",
       "      <td>0.078245</td>\n",
       "      <td>1.106548</td>\n",
       "      <td>3.68817</td>\n",
       "      <td>0.566755</td>\n",
       "      <td>0.645</td>\n",
       "      <td>0.64</td>\n",
       "    </tr>\n",
       "  </tbody>\n",
       "</table>\n",
       "</div>"
      ],
      "text/plain": [
       "    a     b      N       D_N     D_N_N       y*     F(y*)  F_N(y*)  F_N(y*-0)\n",
       "  2.6  4.52  200.0  0.078245  1.106548  3.68817  0.566755    0.645       0.64"
      ]
     },
     "execution_count": 22,
     "metadata": {},
     "output_type": "execute_result"
    }
   ],
   "source": [
    "def F(x):\n",
    "    if x < a:\n",
    "        return 0\n",
    "    elif x > b:\n",
    "        return 1\n",
    "    return (x-a)/(b-a)\n",
    "\n",
    "def F_N(x):\n",
    "    if x < unif_sort[0]:\n",
    "        return 0\n",
    "    elif x >= unif_sort[-1]:\n",
    "        return 1\n",
    "    return unif_sort.tolist().index(x)/len(unif)\n",
    "\n",
    "max_D, max_y = -1000, -1000\n",
    "\n",
    "for k in unif_sort:\n",
    "    D_N = abs(F_N(k)-F(k)) if abs(F_N(k)-F(k)) > abs(F_N(k)-F(k)-1/len(unif)) else abs(F_N(k)-F(k)-1/len(unif))\n",
    "    if D_N > max_D:\n",
    "        max_D, max_y = D_N, k \n",
    "    \n",
    "table3_1 = pd.DataFrame(columns=['a', 'b', 'N', 'D_N', 'D_N_N', 'y*', 'F(y*)', 'F_N(y*)', 'F_N(y*-0)'])\n",
    "table3_1.loc[' '] = [a, b, len(unif), max_D, max_D*len(unif)**0.5, max_y, F(max_y), F_N(max_y), F_N(max_y)-1/len(unif)]\n",
    "\n",
    "table3_1"
   ]
  },
  {
   "cell_type": "code",
   "execution_count": 23,
   "id": "cefc81e7",
   "metadata": {},
   "outputs": [],
   "source": [
    "table3_1.to_excel('tables/table3_1.xlsx')"
   ]
  }
 ],
 "metadata": {
  "kernelspec": {
   "display_name": "Python 3 (ipykernel)",
   "language": "python",
   "name": "python3"
  },
  "language_info": {
   "codemirror_mode": {
    "name": "ipython",
    "version": 3
   },
   "file_extension": ".py",
   "mimetype": "text/x-python",
   "name": "python",
   "nbconvert_exporter": "python",
   "pygments_lexer": "ipython3",
   "version": "3.11.0"
  }
 },
 "nbformat": 4,
 "nbformat_minor": 5
}
